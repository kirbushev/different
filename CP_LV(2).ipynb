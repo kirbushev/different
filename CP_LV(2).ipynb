{
 "cells": [
  {
   "cell_type": "markdown",
   "id": "5c6d7f15",
   "metadata": {},
   "source": [
    "### 1) внутри тенора конст, но по тенорам растёт (20% - 35%)\n",
    "### 2) внутри тенора конст, но по тенорам падает (35% - 20%)\n",
    "### 3) полностью разделить нампай от торча на этапе интерполяции\n",
    "### 4) гамма бэквордом (2 раза бэкворд) с конст волой + вега и ро\n",
    "\n",
    "\n",
    "\n",
    "\n",
    "\n",
    "\n",
    "\n",
    "\n",
    "\n",
    "\n",
    "### 1) модельно экстраполировать локал волу < 1 yr\n",
    "### 2) посчитать гамму через торч для БШ"
   ]
  },
  {
   "cell_type": "code",
   "execution_count": 1,
   "id": "789ff4bf",
   "metadata": {},
   "outputs": [],
   "source": [
    "import pandas as pd\n",
    "import numpy as np\n",
    "import yfinance as yf\n",
    "from scipy.interpolate import CubicSpline\n",
    "import matplotlib.pyplot as plt\n",
    "from scipy.interpolate import RectBivariateSpline\n",
    "from scipy import interpolate\n",
    "import py_vollib\n",
    "import py_vollib.black_scholes_merton.implied_volatility\n",
    "import py_vollib.black_scholes.implied_volatility\n",
    "import pytz\n",
    "from py_vollib.black_scholes.implied_volatility import implied_volatility\n",
    "implied_volatility_vec = np.vectorize(implied_volatility)\n",
    "from scipy.stats import ncx2\n",
    "from scipy.stats import norm\n",
    "from scipy.optimize import bisect, minimize, differential_evolution\n",
    "import scipy.stats as st\n",
    "from scipy import optimize\n",
    "import pickle\n",
    "import bisect\n",
    "import sklearn\n",
    "from sklearn.metrics import mean_squared_error"
   ]
  },
  {
   "cell_type": "code",
   "execution_count": 2,
   "id": "2828d933",
   "metadata": {},
   "outputs": [],
   "source": [
    "z_interval = np.arange(-4, 4, 1)\n",
    "z_interval = np.append(z_interval, np.inf)\n",
    "z_interval = np.insert(z_interval, 0, -np.inf)\n",
    "N = z_interval.tolist().index(0)"
   ]
  },
  {
   "cell_type": "code",
   "execution_count": 3,
   "id": "fd36bbd5",
   "metadata": {},
   "outputs": [],
   "source": [
    "spot = 1.0\n",
    "T = np.array([1, 2, 3, 5])\n",
    "#T = np.array([0.5, 1, 1.5])\n",
    "#T = np.array([0.2, 0.4, 0.6])\n",
    "#imp_vols = np.array([[0.4, 0.4, 0.4, 0.4, 0.4], [0.4, 0.4, 0.4, 0.4, 0.4], [0.4, 0.4, 0.4, 0.4, 0.4]])\n",
    "#imp_vols = np.array([[0.2, 0.2, 0.2, 0.2, 0.2], [1, 1, 1, 1, 1], [0.3, 0.3, 0.3, 0.3, 0.3]])\n",
    "#imp_vols = np.array([[0.43, 0.45, 0.46, 0.48], [0.51, 0.52, 0.54, 0.56], [0.57, 0.57, 0.59, 0.61], [0.68, 0.68, 0.68, 0.68]])\n",
    "#imp_vols = np.array([[0.2, 0.2, 0.2, 0.2], [0.25, 0.25, 0.25, 0.25], [0.3, 0.3, 0.3, 0.3], [0.35, 0.35, 0.35, 0.35]])\n",
    "imp_vols = np.array([[0.35, 0.35, 0.35, 0.35], [0.3, 0.3, 0.3, 0.3],[0.25, 0.25, 0.25, 0.25],[0.2, 0.2, 0.2, 0.2]  ])\n",
    "\n",
    "strikes = np.array([[0.7 * spot, 0.8 * spot, 1 * spot, 1.2 * spot], [0.7 * spot, 0.8 * spot, 1 * spot, 1.2 * spot], \n",
    "    [0.7 * spot, 0.8 * spot, 1 * spot, 1.2 * spot], [0.7 * spot, 0.8 * spot,1 * spot, 1.2 * spot]])\n",
    "#strikes = np.array([[1, 2], [1, 2], [1, 2]])\n",
    "#strikes = np.array([[0.8 * spot,1 * spot, 1.2 * spot], [0.8 * spot, 1 * spot, 1.2 * spot], [0.8 * spot, 1 * spot, 1.2 * spot]])\n",
    "r = np.array([0.05] * len(T))"
   ]
  },
  {
   "cell_type": "markdown",
   "id": "ad4c88f3",
   "metadata": {},
   "source": [
    "## Main functions"
   ]
  },
  {
   "cell_type": "code",
   "execution_count": 4,
   "id": "c2ae9880",
   "metadata": {},
   "outputs": [],
   "source": [
    "def black_scholes(s, sigma, r, t, k, is_call):\n",
    "    \n",
    "    option_px = [np.array([]) for _ in range(len(t))]\n",
    "    \n",
    "    for i in range(len(t)):\n",
    "        for j in range(len(k[i])):\n",
    "            d_1 = (np.log(s / k[i][j]) + (r[i] + 0.5 * sigma[i][j] ** 2) * t[i]) / (sigma[i][j] * np.sqrt(t[i]))\n",
    "            d_2 = d_1 - sigma[i][j] * np.sqrt(t[i])\n",
    "            call_price = (s * norm.cdf(d_1) - np.exp( - r[i] * t[i]) * k[i][j] * norm.cdf(d_2))\n",
    "\n",
    "            if is_call:\n",
    "                option_px[i] = np.append(option_px[i], call_price)\n",
    "            else:\n",
    "                option_px[i] = np.append(option_px[i], call_price + k[i][j] * np.exp(- r[i] * t[i]) - s )\n",
    "            \n",
    "    #return option_px.reshape(len(tenors), len(strks[0]))\n",
    "    return np.array(option_px)"
   ]
  },
  {
   "cell_type": "code",
   "execution_count": 5,
   "id": "e70ab3bf",
   "metadata": {},
   "outputs": [],
   "source": [
    "def quadratic_root(a, b, c):\n",
    "    \n",
    "    D = b ** 2 - 4 * a * c\n",
    "    \n",
    "    if a == 0:\n",
    "        return np.array([-c / b])\n",
    "    \n",
    "    elif D > 0:\n",
    "        return np.array([(-b - np.sqrt(D)) / (2 * a), (-b + np.sqrt(D)) / (2 * a)])\n",
    "    \n",
    "    elif D == 0:\n",
    "        return np.array([-b / (2 * a)])\n",
    "    \n",
    "    elif D < 0:\n",
    "        return np.array([np.nan])"
   ]
  },
  {
   "cell_type": "code",
   "execution_count": 6,
   "id": "011192c3",
   "metadata": {},
   "outputs": [],
   "source": [
    "def discount_factor(r, t):\n",
    "    t = np.array(t)\n",
    "    r = np.array(r)\n",
    "    return np.exp(-r * t)"
   ]
  },
  {
   "cell_type": "code",
   "execution_count": 7,
   "id": "9a7d5b3d",
   "metadata": {},
   "outputs": [],
   "source": [
    "def forward(S, r, t):\n",
    "    t = np.array(t)\n",
    "    r = np.array(r)\n",
    "    return S * np.exp(r * t)"
   ]
  },
  {
   "cell_type": "code",
   "execution_count": 8,
   "id": "73faec38",
   "metadata": {},
   "outputs": [],
   "source": [
    "def beta(z, gamma, N):\n",
    "    \n",
    "    b = np.zeros(len(z))\n",
    "    \n",
    "    \n",
    "    for j in range(N, len(z) - 1):\n",
    "        b[j + 1] = b[j] + (z[j + 1] - z[j]) / gamma[j]\n",
    "    \n",
    "    for j in range(N - 1, 0, -1):\n",
    "        b[j - 1] = b[j] + (z[j] - z[j + 1]) / gamma[j]\n",
    "        \n",
    "    return b"
   ]
  },
  {
   "cell_type": "code",
   "execution_count": 9,
   "id": "b0d9c1f7",
   "metadata": {},
   "outputs": [],
   "source": [
    "def alpha(z, gamma, N):\n",
    "    \n",
    "    _b = beta(z, gamma, N)\n",
    "    a = np.zeros(len(z))\n",
    "    \n",
    "    #a[N] = a[N - 1] = 1\n",
    "    \n",
    "    for j in range(N, len(z) - 1):\n",
    "        a[j + 1] = a[j] + _b[j] * (z[j + 1] - z[j]) + (z[j + 1] - z[j]) ** 2 / (2 * gamma[j])\n",
    "    \n",
    "    for j in range(N - 1, 0, -1):\n",
    "        a[j - 1] = a[j] + _b[j] * (z[j] - z[j + 1]) + (z[j] - z[j + 1]) ** 2 / (2 * gamma[j])\n",
    "    \n",
    "    return a"
   ]
  },
  {
   "cell_type": "code",
   "execution_count": 10,
   "id": "925fce68",
   "metadata": {},
   "outputs": [],
   "source": [
    "def omega(z, gamma, N):\n",
    "    \n",
    "    omega = np.zeros(len(z))\n",
    "    _b = beta(z, gamma, N)\n",
    "    _a = alpha(z, gamma, N)\n",
    "   \n",
    "    for j in range(len(z) - 1):\n",
    "        \n",
    "        j_abs = j + 1 if j < N else j\n",
    "        omega[j + 1] = omega[j] + np.sqrt(2 * np.pi * gamma[j]) * np.exp(0.5 * gamma[j] * _b[j] ** 2 - _a[j]) * \\\n",
    "        (st.norm.cdf((z[j + 1] - z[j_abs]) / np.sqrt(gamma[j]) + np.sqrt(gamma[j]) * _b[j]) - \\\n",
    "         st.norm.cdf((z[j] - z[j_abs]) / np.sqrt(gamma[j]) + np.sqrt(gamma[j]) * _b[j]))\n",
    "    return omega"
   ]
  },
  {
   "cell_type": "code",
   "execution_count": 11,
   "id": "1f2d2a02",
   "metadata": {},
   "outputs": [],
   "source": [
    "def sigma(T, sigma_imp, strikes):\n",
    "    \n",
    "    sigma = np.array([])\n",
    "    strikes_adj = [abs(strikes[i] - spot) for i in range(len(strikes))]\n",
    "    T_diff = np.diff(T)\n",
    "    T_diff = np.insert(T_diff, 0, T[0])\n",
    "    for i in range(len(T)):\n",
    "        \n",
    "        atm_index = np.argmin(strikes_adj[i])\n",
    "        \n",
    "        if i == 0:\n",
    "            sigma = np.append(sigma, sigma_imp[i][atm_index])\n",
    "            \n",
    "        else:\n",
    "            sigma = np.append(sigma, (T[i] * sigma_imp[i][atm_index] - np.sum(T_diff[:i] * sigma[:i])) / T_diff[i])\n",
    "            \n",
    "    return sigma"
   ]
  },
  {
   "cell_type": "code",
   "execution_count": 12,
   "id": "c829f4e1",
   "metadata": {},
   "outputs": [],
   "source": [
    "def sigma(T, sigma_imp, strikes):\n",
    "    \n",
    "    sigma = np.array([])\n",
    "    strikes_adj = [abs(strikes[i] - spot) for i in range(len(strikes))]\n",
    "    T_diff = np.diff(T)\n",
    "    T_diff = np.insert(T_diff, 0, T[0])\n",
    "    for i in range(len(T)):\n",
    "        \n",
    "        atm_index = np.argmin(strikes_adj[i])\n",
    "        \n",
    "        if i == 0:\n",
    "            sigma = np.append(sigma, sigma_imp[i][atm_index])\n",
    "            \n",
    "        else:\n",
    "            sigma = np.append(sigma, (T[i] * sigma_imp[i][atm_index] - np.sum(T_diff[:i] * sigma[:i])) / T_diff[i])\n",
    "            \n",
    "    return sigma\n",
    "    "
   ]
  },
  {
   "cell_type": "code",
   "execution_count": 13,
   "id": "d84af59d",
   "metadata": {},
   "outputs": [],
   "source": [
    "def get_lower_bound(t, T):\n",
    "\n",
    "    idx = bisect.bisect(T, t)\n",
    "    \n",
    "    if 0 <= idx <= len(T):\n",
    "        return idx - 1\n",
    "    else:\n",
    "        raise ValueError(f\"{t} is out of bounds of {T}\")"
   ]
  },
  {
   "cell_type": "code",
   "execution_count": 14,
   "id": "27829787",
   "metadata": {},
   "outputs": [],
   "source": [
    "def tau(t, T, sigma_imp, strikes, sigma0):\n",
    "    arr = np.array([])\n",
    "    \n",
    "    T_diff = np.diff(T)\n",
    "    T_diff = np.insert(T_diff, 0, T[0])\n",
    "    for i in range(len(t)):\n",
    "        ind = get_lower_bound(t[i], T)  \n",
    "        if T[0] <= t[i] < T[1]:\n",
    "            arr = np.append(arr, np.sqrt(sigma0[0] ** 2 * T[i]))\n",
    "\n",
    "        else:\n",
    "            cs = np.sum(sigma0[:ind]** 2 * T_diff[:ind])\n",
    "            add = sigma0[ind] ** 2 * (t[i] - T[ind - 1])\n",
    "            arr = np.append(arr, np.sqrt(cs + add))\n",
    "        \n",
    "    return arr"
   ]
  },
  {
   "cell_type": "code",
   "execution_count": 15,
   "id": "fb33b009",
   "metadata": {},
   "outputs": [],
   "source": [
    "def z_minus(t, T, S, z, N, sigma_imp, strikes, r, gamma, sigma0, strikes_grid):\n",
    "    \n",
    "    _b = beta(z, gamma, N)\n",
    "    _a = alpha(z, gamma, N)\n",
    "    _omega = omega(z, gamma, N)\n",
    "    aa = np.log(_omega[-1])\n",
    "    _a += aa\n",
    "    z_arr = [np.array([]) for _ in range(len(t))]\n",
    "    \n",
    "    for i in range(len(t)):\n",
    "        \n",
    "        _tau = tau(t, T, sigma_imp, strikes, sigma0)[i]\n",
    "        _fwd = forward(S, r, t)[i]\n",
    "        \n",
    "        \n",
    "        for l in range(len(strikes_grid[i])):\n",
    "            j_loop = True\n",
    "            K = strikes_grid[i][l]\n",
    "        \n",
    "            for j in range(1, len(z)):\n",
    "                k0 = np.argmax(z > z[j-1] + _tau)\n",
    "                k1 = np.argmax(z > z[j] + _tau)\n",
    "                if k1 < k0: k1 = k0\n",
    "                k_loop = True\n",
    "                for k in range(k0,k1+1):\n",
    "                    j_abs = j if j - 1 < N else j - 1\n",
    "                    k_abs = k if k - 1 < N else k - 1\n",
    "\n",
    "                    a = 1 / (2 * gamma[k - 1]) - 1 / (2 * gamma[j - 1])\n",
    "                    b = _b[k - 1] - z[k_abs] / gamma[k - 1] + _tau / gamma[k - 1] - _b[j - 1] + z[j_abs] / gamma[j - 1]\n",
    "                    c = _a[k - 1] + _b[k - 1] * _tau - _b[k - 1] * z[k_abs] + (_tau - z[k_abs]) ** 2 / (2 * gamma[k - 1]) - \\\n",
    "                      _a[j - 1] + _b[j - 1] * z[j_abs] - z[j_abs] ** 2 / (2 * gamma[j - 1]) - np.log(_fwd / K)\n",
    "\n",
    "                    roots = quadratic_root(a, b, c)\n",
    "                    #print(roots)                              \n",
    "                    for root in roots:\n",
    "\n",
    "                        if (root >= z[j-1] and root <= z[j]) and (root + _tau >= z[k-1] and root + _tau <= z[k]):\n",
    "                            \n",
    "                            z_arr[i] = np.append(z_arr[i], root)\n",
    "                            j_loop = False\n",
    "                            k_loop = False\n",
    "                            break\n",
    "                    if not k_loop: break\n",
    "                if not j_loop: break\n",
    "    return z_arr"
   ]
  },
  {
   "cell_type": "code",
   "execution_count": 16,
   "id": "b8f5688b",
   "metadata": {},
   "outputs": [],
   "source": [
    "def z_pl(t, T, S, z, N, sigma_imp, strikes, r, gamma, sigma0, strikes_grid):\n",
    "    \n",
    "    _z_neg = z_minus(t, T, S, z, N, sigma_imp, strikes, r, gamma, sigma0, strikes_grid)\n",
    "    zz = _z_neg.copy()\n",
    "   \n",
    "    for i in range(len(t)):\n",
    "        _tau = tau(t, T, sigma_imp, strikes, sigma0)[i]\n",
    "        #print(gamma, sigma0)\n",
    "        zz[i] = np.add(zz[i], _tau)\n",
    "        \n",
    "    return zz"
   ]
  },
  {
   "cell_type": "code",
   "execution_count": 17,
   "id": "cf2ffbd0",
   "metadata": {},
   "outputs": [],
   "source": [
    "def delta_minus(t, T, S, z, N, sigma_imp, strikes, r, gamma, sigma0, strikes_grid):\n",
    "    \n",
    "    omega_arr = [np.array([]) for _ in range(len(t))]\n",
    "    _b = beta(z, gamma, N)\n",
    "    _a = alpha(z, gamma, N)\n",
    "    _omega = omega(z, gamma, N)\n",
    "    om_last = _omega[-1]\n",
    "    aa = np.log(om_last)\n",
    "    _a += aa\n",
    "   \n",
    "    _omega *= np.exp(-aa)\n",
    "    \n",
    "    \n",
    "    for i in range(len(t)):\n",
    "        for l in range(len(strikes_grid[i])):\n",
    "            _z = z_minus(t, T, S, z, N, sigma_imp, strikes, r, gamma, sigma0, strikes_grid)[i][l]\n",
    "            ind = get_lower_bound(_z, z)\n",
    "            j_abs = ind + 1 if ind < N else ind\n",
    "            comp1 = _omega[ind]\n",
    "            comp2 = np.sqrt(2 * np.pi * gamma[ind])\n",
    "            comp3 = np.exp(0.5 * gamma[ind] * _b[ind] ** 2 - _a[ind])\n",
    "            comp4 = st.norm.cdf((_z - z[j_abs]) / np.sqrt(gamma[ind]) + np.sqrt(gamma[ind]) * _b[ind], loc = 0, scale = 1)\n",
    "            comp5 = st.norm.cdf((z[ind] - z[j_abs]) / np.sqrt(gamma[ind]) + np.sqrt(gamma[ind]) * _b[ind], loc = 0, scale = 1)\n",
    "\n",
    "            omega_arr[i] = np.append(omega_arr[i], comp1 + comp2 * comp3 * (comp4 - comp5))\n",
    "        \n",
    "    return omega_arr"
   ]
  },
  {
   "cell_type": "code",
   "execution_count": 18,
   "id": "c7767733",
   "metadata": {},
   "outputs": [],
   "source": [
    "def delta_plus(t, T, S, z, N, sigma_imp, strikes, r, gamma, sigma0, strikes_grid):\n",
    "    \n",
    "    omega_arr = [np.array([]) for _ in range(len(t))]\n",
    "    _b = beta(z, gamma, N)\n",
    "    _a = alpha(z, gamma, N)\n",
    "    _omega = omega(z, gamma, N)\n",
    "    om_last = _omega[-1]\n",
    "    aa = np.log(om_last)\n",
    "    _a += aa\n",
    "    \n",
    "    _omega *= np.exp(-aa)\n",
    "    \n",
    "    for i in range(len(t)):\n",
    "        for l in range(len(strikes_grid[i])):\n",
    "            _z = z_pl(t, T, S, z, N, sigma_imp, strikes, r, gamma, sigma0, strikes_grid)[i][l]\n",
    "            ind = get_lower_bound(_z, z)\n",
    "            j_abs = ind + 1 if ind < N else ind\n",
    "            comp1 = _omega[ind]\n",
    "            comp2 = np.sqrt(2 * np.pi * gamma[ind])\n",
    "            comp3 = np.exp(0.5 * gamma[ind] * _b[ind] ** 2 - _a[ind])\n",
    "            comp4 = st.norm.cdf((_z - z[j_abs]) / np.sqrt(gamma[ind]) + np.sqrt(gamma[ind]) * _b[ind], loc = 0, scale = 1)\n",
    "            comp5 = st.norm.cdf((z[ind] - z[j_abs]) / np.sqrt(gamma[ind]) + np.sqrt(gamma[ind]) * _b[ind], loc = 0, scale = 1)\n",
    "\n",
    "            omega_arr[i] = np.append(omega_arr[i], comp1 + comp2 * comp3 * (comp4 - comp5))\n",
    "\n",
    "    return omega_arr"
   ]
  },
  {
   "cell_type": "code",
   "execution_count": 19,
   "id": "19cb2c89",
   "metadata": {},
   "outputs": [],
   "source": [
    "def carr_pelts_call_px(t, T, S, z, N, sigma_imp, strikes, r, gamma, sigma0, strikes_grid):\n",
    "    \n",
    "    pxes = [np.array([]) for _ in range(len(t))]\n",
    "    _fwd = forward(S, r, t)\n",
    "    _df = discount_factor(r, t)\n",
    "    _d_p = delta_plus(t, T, S, z, N, sigma_imp, strikes, r, gamma, sigma0, strikes_grid)\n",
    "    _d_m = delta_minus(t, T, S, z, N, sigma_imp, strikes, r, gamma, sigma0, strikes_grid)\n",
    "    for i in range(len(t)):\n",
    "        pxes[i] = np.append(pxes[i], _df[i] * (_fwd[i] * _d_p[i] - strikes[i] * _d_m[i]))\n",
    "    \n",
    "    return pxes"
   ]
  },
  {
   "cell_type": "code",
   "execution_count": 20,
   "id": "23600bf6",
   "metadata": {},
   "outputs": [],
   "source": [
    "def loss_px(x, t, T, S, z,  N, sigma_imp, strikes, r, strikes_grid):\n",
    "    \n",
    "    px = carr_pelts_call_px(t = T, T = T, S = spot, z = z_interval,\n",
    "        N = N, sigma_imp = imp_vols, strikes = strikes, r = r, gamma = x[:len(z)], sigma0 = x[len(z):], strikes_grid = strikes)\n",
    "    \n",
    "    return np.sqrt(np.sum((px - px_bs)**2))\n",
    "    #return np.sqrt(mean_squared_error(px_bs, px))"
   ]
  },
  {
   "cell_type": "code",
   "execution_count": 21,
   "id": "f42cd183",
   "metadata": {},
   "outputs": [],
   "source": [
    "def cons_gamma(x, z):\n",
    "    return x[:len(z)] - 0.1"
   ]
  },
  {
   "cell_type": "code",
   "execution_count": 22,
   "id": "541e46cd",
   "metadata": {},
   "outputs": [],
   "source": [
    "def cons_sigma(x, z, sigma_imp):\n",
    "    return x[len(z):] - np.min(sigma_imp) + 0.1"
   ]
  },
  {
   "cell_type": "code",
   "execution_count": 23,
   "id": "5d852a43",
   "metadata": {},
   "outputs": [],
   "source": [
    "def calibrate_px(t, T, S, z, N, sigma_imp, strikes, r, strikes_grid):\n",
    "\n",
    "    gamma0 = np.ones(len(z_interval))\n",
    "    #gamma0 = np.linspace(0.7, 1, len(z_interval))\n",
    "    sigma_init = sigma(T, sigma_imp, strikes)\n",
    "    params0 = np.concatenate((gamma0, sigma_init))\n",
    "    constraint_gamma = {'type': 'ineq', 'fun': cons_gamma, 'args': [z]}\n",
    "    constraint_sigma = {'type': 'ineq', 'fun': cons_sigma, 'args': [z, sigma_imp]}\n",
    "    res = optimize.minimize(\n",
    "        fun=loss_px,\n",
    "        x0=params0,\n",
    "        #bounds = [[0.1, 5]] * len(z) + [[0.01, 2]] * len(T),\n",
    "        constraints = [constraint_gamma, constraint_sigma],\n",
    "        args=(t, T, S, z, N, sigma_imp, strikes, r, strikes_grid),\n",
    "        method = 'SLSQP')\n",
    "\n",
    "    \n",
    "    return res"
   ]
  },
  {
   "cell_type": "code",
   "execution_count": 24,
   "id": "242d4ab3",
   "metadata": {},
   "outputs": [],
   "source": [
    "def local_vol(t, T, S, z, N, sigma_imp, strikes, r, gamma, sigma0, strikes_grid):\n",
    "\n",
    "    loc_vol = [np.array([]) for _ in range(len(t))]\n",
    "    _b = beta(z, gamma, N)\n",
    "    _z_neg = z_minus(t, T, S, z, N, sigma_imp, strikes, r, gamma, sigma0, strikes_grid)\n",
    "    _z_pos = z_pl(t, T, S, z, N, sigma_imp, strikes, r, gamma, sigma0, strikes_grid)\n",
    "    \n",
    "    for j in range(len(t)):\n",
    "        _tau = tau(t, T, sigma_imp, strikes, sigma0)[j]\n",
    "        \n",
    "        for k in range(len(strikes_grid[j])):\n",
    "        \n",
    "            ind_pos = get_lower_bound(_z_pos[j][k], z)\n",
    "            ind_neg = get_lower_bound(_z_neg[j][k], z)\n",
    "            j_abs_pos = ind_pos + 1 if ind_pos < N else ind_pos\n",
    "            j_abs_neg = ind_neg + 1 if ind_neg < N else ind_neg\n",
    "            h_pr_plus = _b[ind_pos] + (_z_pos[j][k] - z[j_abs_pos]) / gamma[ind_pos]\n",
    "            h_pr_minus = _b[ind_neg] + (_z_neg[j][k] - z[j_abs_neg]) / gamma[ind_neg]\n",
    "            \n",
    "            if t[j] >= T[-1]:\n",
    "                sig_ind = get_lower_bound(t[j], T)\n",
    "            else:\n",
    "                sig_ind = get_lower_bound(t[j], T) + 1\n",
    "                \n",
    "            loc_vol[j] = np.append(loc_vol[j], np.sqrt(sigma0[sig_ind] ** 2 * (h_pr_plus - h_pr_minus) / _tau))\n",
    "            \n",
    "    return loc_vol"
   ]
  },
  {
   "cell_type": "code",
   "execution_count": 25,
   "id": "ced6bd18",
   "metadata": {},
   "outputs": [],
   "source": [
    "def carr_pelts_iv(t, T, S, z, N, sigma_imp, strikes, r, flag, gamma, sigma0, strikes_grid = strikes):\n",
    "    \n",
    "    cp_iv = [np.array([]) for _ in range(len(T))]\n",
    "    _cp_px = carr_pelts_call_px(t, T, S, z, N, sigma_imp, strikes, r, gamma, sigma0, strikes_grid)\n",
    "    \n",
    "    for i in range(len(T)):\n",
    "        cp_iv[i] = np.append(cp_iv[i], implied_volatility_vec(_cp_px[i], S, strikes[i], T[i], r[i], flag)) \n",
    "    \n",
    "    return cp_iv"
   ]
  },
  {
   "cell_type": "code",
   "execution_count": 26,
   "id": "d08c81a9",
   "metadata": {},
   "outputs": [],
   "source": [
    "px_bs = black_scholes(s = spot, sigma = imp_vols, r = r, t = T, k = strikes, is_call = True)"
   ]
  },
  {
   "cell_type": "code",
   "execution_count": 27,
   "id": "bb933049",
   "metadata": {},
   "outputs": [],
   "source": [
    "opt_px = calibrate_px(t = T, T = T, S = spot, z = z_interval, N = N, sigma_imp = imp_vols, strikes = strikes, r = r,\\\n",
    "                     strikes_grid = strikes)"
   ]
  },
  {
   "cell_type": "code",
   "execution_count": 28,
   "id": "bb29832e",
   "metadata": {},
   "outputs": [],
   "source": [
    "lv = local_vol(t = T, T = T, S = spot, z = z_interval, N = N, sigma_imp = imp_vols, strikes = strikes, r = r,\n",
    "                  gamma = opt_px.x[:len(z_interval)], sigma0 = opt_px.x[len(z_interval):], strikes_grid = strikes)"
   ]
  },
  {
   "cell_type": "code",
   "execution_count": 29,
   "id": "7f6f9d9a",
   "metadata": {},
   "outputs": [],
   "source": [
    "cp = carr_pelts_call_px(t = T, T = T, S = spot, z = z_interval, N = N, sigma_imp = imp_vols, strikes = strikes, r = r,\n",
    "                  gamma = opt_px.x[:len(z_interval)], sigma0 = opt_px.x[len(z_interval):], strikes_grid = strikes)"
   ]
  },
  {
   "cell_type": "code",
   "execution_count": 30,
   "id": "fda0ba36",
   "metadata": {},
   "outputs": [],
   "source": [
    "cp_iv = carr_pelts_iv(t = T, T = T, S = spot, z = z_interval, N = N, sigma_imp = imp_vols, strikes = strikes, r = r, flag = 'c',\n",
    "                  gamma = opt_px.x[:len(z_interval)], sigma0 = opt_px.x[len(z_interval):], strikes_grid = strikes)"
   ]
  },
  {
   "cell_type": "code",
   "execution_count": 31,
   "id": "f8a0468d",
   "metadata": {},
   "outputs": [
    {
     "data": {
      "text/plain": [
       "[array([0.23989479, 0.23986614, 0.23980564, 0.2394909 ]),\n",
       " array([0.08664308, 0.08663181, 0.08662238, 0.0865024 ]),\n",
       " array([0.0791029 , 0.079097  , 0.079084  , 0.07900711]),\n",
       " array([0.07899838, 0.0791029 , 0.0790841 , 0.07906553])]"
      ]
     },
     "execution_count": 31,
     "metadata": {},
     "output_type": "execute_result"
    }
   ],
   "source": [
    "lv"
   ]
  },
  {
   "cell_type": "markdown",
   "id": "2974f7a6",
   "metadata": {},
   "source": [
    "### Carr Pelts IV"
   ]
  },
  {
   "cell_type": "code",
   "execution_count": 50,
   "id": "eb411e16",
   "metadata": {},
   "outputs": [],
   "source": [
    "def carr_pelts_iv(T, S, z, N, sigma_imp, strikes, r, flag, gamma, sigma0):\n",
    "    \n",
    "    cp_iv = [np.array([]) for _ in range(len(T))]\n",
    "    _cp_px = carr_pelts_call_px(T, S, z, N, sigma_imp, strikes, r, gamma, sigma0)\n",
    "    \n",
    "    for i in range(len(T)):\n",
    "        cp_iv[i] = np.append(cp_iv[i], implied_volatility_vec(_cp_px[i], S, strikes[i], T[i], r[i], flag)) \n",
    "    \n",
    "    return cp_iv"
   ]
  },
  {
   "cell_type": "code",
   "execution_count": 144,
   "id": "8ddfd192",
   "metadata": {},
   "outputs": [],
   "source": [
    "cp_iv = carr_pelts_iv(T = T, S = spot, z = z_interval, N = N, sigma_imp = imp_vols, strikes = strikes, r = r, flag = 'c',\n",
    "                  gamma = opt_px.x[:len(z_interval)], sigma0 = opt_px.x[len(z_interval):])"
   ]
  },
  {
   "cell_type": "code",
   "execution_count": 60,
   "id": "f916fd30",
   "metadata": {},
   "outputs": [
    {
     "data": {
      "text/plain": [
       "array([[ 0.02502406,  0.01729425, -0.00479998, -0.01906041,  0.00111897,\n",
       "         0.00138951, -0.0017172 , -0.0095212 , -0.00235815,  0.01779734],\n",
       "       [ 0.05344435, -0.02214201, -0.03058803, -0.08495054,  0.02937967,\n",
       "         0.02956841,  0.03288969, -0.02274109, -0.00255963,  0.01125144],\n",
       "       [ 0.05839541,  0.02323801,  0.01772628,  0.01184054,  0.01162622,\n",
       "         0.00593569, -0.01147334, -0.01705123,  0.0120386 , -0.05905   ],\n",
       "       [-0.10999783, -0.06582208,  0.04661722, -0.04471608,  0.02412301,\n",
       "         0.02094246,  0.01779512,  0.00734684,  0.006103  ,  0.00075042],\n",
       "       [ 0.03942806, -0.13664565,  0.00920422,  0.06118781, -0.06761217,\n",
       "        -0.06581151, -0.01904642,  0.0220791 ,  0.03905241,  0.03021309],\n",
       "       [ 0.09355607, -0.22175287,  0.04997764,  0.00795757,  0.0029578 ,\n",
       "         0.02317968,  0.01722044, -0.03958408,  0.00745327, -0.00760577]])"
      ]
     },
     "execution_count": 60,
     "metadata": {},
     "output_type": "execute_result"
    }
   ],
   "source": [
    "imp_vols - cp_iv"
   ]
  },
  {
   "cell_type": "markdown",
   "id": "8492167d",
   "metadata": {},
   "source": [
    "## Calibration to IV"
   ]
  },
  {
   "cell_type": "code",
   "execution_count": 26,
   "id": "ea6f6297",
   "metadata": {},
   "outputs": [],
   "source": [
    "def loss(x, T, S, z,  N, sigma_imp, strikes, r, flag):\n",
    "    \n",
    "    iv = carr_pelts_iv(T = TT, S = spot, z = z_interval, N = N, sigma_imp = ww, \n",
    "    strikes = strk, r = r, flag = 'c', gamma = x[:len(z)], sigma0 = x[len(z):])\n",
    "    \n",
    "    return np.sqrt(np.sum((np.asarray(iv) - np.asarray(ww))**2))"
   ]
  },
  {
   "cell_type": "code",
   "execution_count": 69,
   "id": "c30eae0c",
   "metadata": {},
   "outputs": [],
   "source": [
    "def calibrate(T, S, z, N, sigma_imp, strikes, r, flag):\n",
    "\n",
    "    gamma0 = np.ones(len(z_interval)) * 1\n",
    "    #gamma0 = np.linspace(0.7, 1, len(z_interval))\n",
    "    sigma_init = sigma(T, sigma_imp, strikes)\n",
    "    params0 = np.concatenate((gamma0, sigma_init))\n",
    "    constraint_gamma = {'type': 'ineq', 'fun': cons_gamma, 'args': [z]}\n",
    "    constraint_sigma = {'type': 'ineq', 'fun': cons_sigma, 'args': [z]}\n",
    "    res = optimize.minimize(\n",
    "        fun=loss,\n",
    "        x0=params0,\n",
    "        #bounds = [[0.1, 5]] * len(z) + [[0.01, 2]] * len(T),\n",
    "        constraints = [constraint_gamma, constraint_sigma],\n",
    "        args=(T, S, z, N, sigma_imp, strikes, r,flag),\n",
    "        method = 'SLSQP')\n",
    "\n",
    "    \n",
    "    return res"
   ]
  },
  {
   "cell_type": "code",
   "execution_count": 70,
   "id": "feded0f3",
   "metadata": {},
   "outputs": [],
   "source": [
    "opt = calibrate(T = T, S = spot, z = z_interval, N = N, sigma_imp = w, strikes = strikes, r = r, flag = 'c')"
   ]
  },
  {
   "cell_type": "code",
   "execution_count": 71,
   "id": "b2d5034b",
   "metadata": {},
   "outputs": [
    {
     "data": {
      "text/plain": [
       "[array([0.83151337, 0.844454  , 0.86166282]),\n",
       " array([0.48165584, 0.48842315, 0.49502975]),\n",
       " array([0.37204986, 0.37914101, 0.38363565])]"
      ]
     },
     "execution_count": 71,
     "metadata": {},
     "output_type": "execute_result"
    }
   ],
   "source": [
    "carr_pelts_iv(T = T, S = spot, z = z_interval, N = N, sigma_imp = w, strikes = strikes, r = r, flag = 'c',\n",
    "                  gamma = opt.x[:len(z_interval)], sigma0 = opt.x[len(z_interval):])"
   ]
  },
  {
   "cell_type": "markdown",
   "id": "3b6dd24a",
   "metadata": {},
   "source": [
    "# MC"
   ]
  },
  {
   "cell_type": "code",
   "execution_count": 32,
   "id": "37d2861c",
   "metadata": {},
   "outputs": [],
   "source": [
    "import torch"
   ]
  },
  {
   "cell_type": "code",
   "execution_count": 33,
   "id": "4d6bdafa",
   "metadata": {},
   "outputs": [],
   "source": [
    "def locvol_interp(T, strikes, lv, time, price):\n",
    "    #T = torch.from_numpy(T)\n",
    "    cs = [np.array([]) for _ in range(len(T))]\n",
    "    xs = np.linspace(np.min(strikes), np.max(strikes), 100)\n",
    "    #xs = torch.linspace(torch.min(torch.from_numpy(strikes)), torch.max(torch.from_numpy(strikes)), 100)\n",
    "    #print(xs)\n",
    "    for i in range(len(T)):\n",
    "    \n",
    "        cs[i] = np.append(cs[i], CubicSpline(strikes[i], lv[i], bc_type = 'natural', extrapolate = True)(xs))\n",
    "    #print(cs)\n",
    "    return RectBivariateSpline(T, xs, cs)(time, price, grid = False)\n",
    "    #return torch.from_numpy(RectBivariateSpline(T, xs, cs)(time, price, grid = False))#, \\\n",
    "#RectBivariateSpline(T, xs, cs).get_coeffs()"
   ]
  },
  {
   "cell_type": "markdown",
   "id": "151847ef",
   "metadata": {},
   "source": [
    "## interpolated lv"
   ]
  },
  {
   "cell_type": "code",
   "execution_count": 61,
   "id": "bf4a7197",
   "metadata": {},
   "outputs": [],
   "source": [
    "#tt = np.array([0.2, 0.5, 1, 1.5, 2, 2.5, 2.75, 3, 3.5, 4, 4.5, 5])\n",
    "tt = np.array([0.2])\n",
    "pp = np.array([np.arange(0.7, 1.25, 0.05)] * len(tt))\n",
    "#pp = np.array([np.linspace(0.7, 1.2, len(tt))] * len(tt))\n",
    "r = np.array([0.05] * len(tt))"
   ]
  },
  {
   "cell_type": "code",
   "execution_count": 35,
   "id": "b813a61c",
   "metadata": {},
   "outputs": [
    {
     "name": "stdout",
     "output_type": "stream",
     "text": [
      "-0.001851600012741983\n",
      "0:00:00.037501\n"
     ]
    }
   ],
   "source": [
    "import timeit\n",
    "from datetime import datetime\n",
    "now1 = datetime.now()\n",
    "start = timeit.timeit()\n",
    "lv_spline = [np.array([]) for _ in range(len(tt))]\n",
    "\n",
    "for i in range(len(tt)):\n",
    "    lv_spline[i] = np.append(lv_spline[i], locvol_interp(T, strikes, lv, tt[i], pp[0]))\n",
    "    \n",
    "end = timeit.timeit() \n",
    "now2 = datetime.now()\n",
    "print(end - start)\n",
    "print(now2 - now1)"
   ]
  },
  {
   "cell_type": "code",
   "execution_count": 62,
   "id": "2c663f28",
   "metadata": {},
   "outputs": [
    {
     "name": "stdout",
     "output_type": "stream",
     "text": [
      "-0.0004746000049635768\n",
      "0:00:00.016488\n"
     ]
    }
   ],
   "source": [
    "start1 = timeit.timeit()\n",
    "now3 = datetime.now()\n",
    "lv_model = local_vol(t = tt, T = T, S = spot, z = z_interval, N = N, sigma_imp = imp_vols, strikes = strikes, r = r,\n",
    "                  gamma = opt_px.x[:len(z_interval)], sigma0 = opt_px.x[len(z_interval):], strikes_grid = pp)\n",
    "\n",
    "end1 = timeit.timeit() \n",
    "now4 = datetime.now()\n",
    "print(end1 - start1)\n",
    "print(now4 - now3)"
   ]
  },
  {
   "cell_type": "code",
   "execution_count": 37,
   "id": "fb2350ad",
   "metadata": {
    "scrolled": true
   },
   "outputs": [
    {
     "data": {
      "image/png": "[encoded data removed]",
      "text/plain": [
       "<Figure size 640x480 with 1 Axes>"
      ]
     },
     "metadata": {},
     "output_type": "display_data"
    },
    {
     "data": {
      "image/png": "[encoded data removed]",
      "text/plain": [
       "<Figure size 640x480 with 1 Axes>"
      ]
     },
     "metadata": {},
     "output_type": "display_data"
    },
    {
     "data": {
      "image/png": "[encoded data removed]",
      "text/plain": [
       "<Figure size 640x480 with 1 Axes>"
      ]
     },
     "metadata": {},
     "output_type": "display_data"
    },
    {
     "data": {
      "image/png": "[encoded data removed]",
      "text/plain": [
       "<Figure size 640x480 with 1 Axes>"
      ]
     },
     "metadata": {},
     "output_type": "display_data"
    }
   ],
   "source": [
    "for i in range(len(lv)):\n",
    "    plt.figure()\n",
    "    plt.scatter(pp[i], lv_spline[i], label = 'spline interpolation')\n",
    "    plt.scatter(pp[i], lv_model[i], label = 'model interpolation')\n",
    "    \n",
    "    plt.title(f'Tenor = {tt[i].round(3)}')\n",
    "    \n",
    "    plt.xlabel(\"Strikes\")\n",
    "    plt.ylabel(\"Local Vol\")\n",
    "    plt.legend(loc=\"upper right\")\n",
    "    plt.show()"
   ]
  },
  {
   "cell_type": "code",
   "execution_count": 63,
   "id": "fca94d09",
   "metadata": {},
   "outputs": [
    {
     "data": {
      "text/plain": [
       "[array([0.350098  , 0.35006407, 0.3500341 , 0.3500341 , 0.3500341 ,\n",
       "        0.34996355, 0.34981088, 0.34966548, 0.34952827, 0.34952827,\n",
       "        0.34952827])]"
      ]
     },
     "execution_count": 63,
     "metadata": {},
     "output_type": "execute_result"
    }
   ],
   "source": [
    "lv_model"
   ]
  },
  {
   "cell_type": "markdown",
   "id": "0447934a",
   "metadata": {},
   "source": [
    "## Sobol"
   ]
  },
  {
   "cell_type": "code",
   "execution_count": 39,
   "id": "fb2f6de6",
   "metadata": {},
   "outputs": [],
   "source": [
    "def qmc(N_times, m):\n",
    "    \n",
    "    #N_times = 12 * expiration\n",
    "    soboleng = torch.quasirandom.SobolEngine(dimension = N_times, scramble = True)\n",
    "    return norm.ppf(soboleng.draw_base2(m))"
   ]
  },
  {
   "cell_type": "code",
   "execution_count": 40,
   "id": "3fa8a91b",
   "metadata": {},
   "outputs": [],
   "source": [
    "def locvol_interp(T, strikes, lv, time, price):\n",
    "    \n",
    "    cs = [np.array([]) for _ in range(len(T))]\n",
    "    xs = np.linspace(np.min(strikes), np.max(strikes), 100)\n",
    "    \n",
    "    for i in range(len(T)):\n",
    "        \n",
    "        cs[i] = np.append(cs[i], CubicSpline(strikes[i], lv[i], bc_type = 'natural', extrapolate = True)(xs))\n",
    "\n",
    "    res = RectBivariateSpline(T, xs, cs)(time, price, grid = False)\n",
    "\n",
    "    return res"
   ]
  },
  {
   "cell_type": "code",
   "execution_count": 86,
   "id": "8babe236",
   "metadata": {},
   "outputs": [
    {
     "data": {
      "text/plain": [
       "array(0.2394909)"
      ]
     },
     "execution_count": 86,
     "metadata": {},
     "output_type": "execute_result"
    }
   ],
   "source": [
    "locvol_interp(T, strikes, lv, 0, 1.5)"
   ]
  },
  {
   "cell_type": "code",
   "execution_count": 91,
   "id": "dc1fc867",
   "metadata": {},
   "outputs": [
    {
     "data": {
      "text/plain": [
       "array(0.2394909)"
      ]
     },
     "execution_count": 91,
     "metadata": {},
     "output_type": "execute_result"
    }
   ],
   "source": [
    "locvol_interp(T, strikes, lv, 0.5, 1.5)"
   ]
  },
  {
   "cell_type": "code",
   "execution_count": null,
   "id": "98764102",
   "metadata": {},
   "outputs": [],
   "source": []
  },
  {
   "cell_type": "code",
   "execution_count": null,
   "id": "6c4ee98e",
   "metadata": {},
   "outputs": [],
   "source": []
  },
  {
   "cell_type": "code",
   "execution_count": 67,
   "id": "dd26af4b",
   "metadata": {},
   "outputs": [],
   "source": [
    "def Generate_paths(N_times, spot, m, r, expiration, strikes, lv):\n",
    "    \n",
    "    Z = qmc(N_times, m)\n",
    "    #Z = torch.normal(0, 1, size = (N_paths, N_times))\n",
    "    #N_times = 12 * expiration\n",
    "    px = torch.zeros((2 ** m, N_times + 1))\n",
    "    px[:, 0] = spot\n",
    "    t = torch.zeros([N_times + 1])\n",
    "    dt = torch.tensor(expiration / N_times)\n",
    "    \n",
    "    for i in range(N_times):\n",
    "        \n",
    "        _t = torch.Tensor.numpy(t[i])\n",
    "        _px = px[:, i].detach().numpy()\n",
    "        #_px = torch.Tensor.numpy(px[:, i])\n",
    "        #print(T, strikes, lv, _t, _px)\n",
    "        _locvol = locvol_interp(T, strikes, lv, _t, _px)\n",
    "        _lv = torch.from_numpy(_locvol) \n",
    "        \n",
    "        px[: , i+1] = px[: , i] * (1 + r * dt + _lv * torch.sqrt(dt) * Z[:,i])   \n",
    "        t[i + 1] = t[i] + dt\n",
    "        \n",
    "    paths = {\"Time\" : t, \"Price\": px}\n",
    "    price_last = px[:, -1]\n",
    "    \n",
    "    return price_last"
   ]
  },
  {
   "cell_type": "code",
   "execution_count": 68,
   "id": "ebf5b99e",
   "metadata": {},
   "outputs": [
    {
     "data": {
      "text/plain": [
       "tensor([1.0695, 0.7955, 1.3565, 0.9840, 1.4187, 0.7089, 1.3193, 0.8730, 0.9974,\n",
       "        0.8374, 1.1428, 1.5994, 1.7391, 0.8690, 1.7028, 0.7505, 1.8729, 0.7521,\n",
       "        1.3033, 1.0936, 0.8677, 1.4296, 1.0369, 1.1555, 1.7675, 1.0421, 0.8049,\n",
       "        1.3076, 1.5060, 0.9077, 0.5514, 1.4137, 1.2961, 0.7198, 1.1343, 1.0647,\n",
       "        1.2180, 1.3217, 1.3675, 0.5886, 1.4683, 0.5724, 1.5907, 1.6183, 1.6396,\n",
       "        1.0363, 0.6813, 1.8507, 0.8596, 1.2307, 1.2853, 1.3119, 1.4971, 0.6665,\n",
       "        1.5513, 0.9857, 1.8185, 0.8758, 0.8802, 1.2099, 1.2540, 1.2106, 0.8729,\n",
       "        0.6744, 1.0499, 0.7856, 1.0846, 1.2882, 1.4664, 0.9160, 0.6710, 1.2217,\n",
       "        1.1629, 0.9834, 1.5839, 0.8922, 0.9222, 2.5993, 0.9626, 0.9699, 1.2998,\n",
       "        0.8022, 1.0123, 1.3786, 2.6749, 0.5682, 1.4649, 1.0099, 1.4526, 0.7672,\n",
       "        1.0875, 1.2516, 1.3489, 0.8734, 1.1946, 0.9877, 1.3879, 0.5580, 1.2145,\n",
       "        0.9070, 1.3206, 0.9129, 1.1212, 1.1728, 1.1699, 1.1438, 0.7873, 1.7067,\n",
       "        2.2317, 1.0278, 1.0215, 0.8091, 2.0436, 0.5662, 1.0982, 0.8595, 1.2275,\n",
       "        1.3042, 1.1241, 1.1920, 0.9432, 1.1063, 1.4997, 0.9656, 1.0714, 0.8821,\n",
       "        1.3048, 1.1497, 1.4826, 0.6550, 1.0699, 1.2252, 1.5708, 0.7833, 1.1171,\n",
       "        1.3029, 0.9850, 1.4916, 0.9548, 1.1628, 1.8847, 0.7649, 1.3314, 0.8274,\n",
       "        1.4244, 0.8086, 1.8054, 0.8680, 1.4104, 1.3677, 0.6299, 1.1021, 1.2068,\n",
       "        0.7888, 1.4781, 1.4546, 1.1229, 0.8800, 0.9625, 1.1340, 1.4351, 0.8179,\n",
       "        1.1264, 0.9000, 1.7972, 0.8095, 1.2664, 0.9883, 1.5893, 0.8783, 1.6155,\n",
       "        0.7807, 1.2220, 1.2504, 1.0809, 0.9544, 1.1710, 0.8078, 0.8655, 2.0034,\n",
       "        2.1173, 0.5115, 0.8285, 1.1036, 0.9221, 1.0646, 1.2687, 1.2825, 1.0047,\n",
       "        1.0812, 1.1349, 1.1273, 1.2865, 1.0142, 1.2806, 0.6650, 1.7922, 0.8171,\n",
       "        0.8442, 1.2209, 1.9486, 0.4315, 1.2427, 1.4567, 0.7804, 1.0954, 1.0284,\n",
       "        1.4921, 0.6931, 1.1084, 1.3159, 1.4590, 1.6699, 1.0355, 1.6728, 0.6027,\n",
       "        1.5415, 0.9955, 1.0694, 0.8671, 2.2955, 0.9114, 0.7058, 1.2274, 1.1338,\n",
       "        0.8988, 1.2715, 1.0584, 0.9520, 1.3846, 1.3124, 0.9117, 0.8468, 1.3489,\n",
       "        1.1212, 1.4378, 1.5658, 0.6811, 1.0459, 1.4194, 1.7670, 0.5388, 1.6655,\n",
       "        0.9782, 1.6467, 0.9945, 0.6895, 1.1009, 1.5035, 0.8177, 1.1991, 1.0209,\n",
       "        1.8719, 0.8823, 0.9699, 1.0424])"
      ]
     },
     "execution_count": 68,
     "metadata": {},
     "output_type": "execute_result"
    }
   ],
   "source": [
    "Generate_paths(N_times = 10,  spot=1, m=8, r=0.05, expiration=3, strikes = strikes, lv=lv)"
   ]
  },
  {
   "cell_type": "code",
   "execution_count": 69,
   "id": "597f0453",
   "metadata": {},
   "outputs": [],
   "source": [
    "def calc_option_px(N_times, K, spot, m, r, expiration, strikes, lv):\n",
    "    \n",
    "    res = Generate_paths(N_times, spot, m, r, expiration, strikes, lv)\n",
    "    \n",
    "    return torch.exp(torch.tensor(-r * expiration)) * torch.sum(res[res - K > 0] - K) / res.size(dim = 0)"
   ]
  },
  {
   "cell_type": "code",
   "execution_count": 48,
   "id": "b6be34b8",
   "metadata": {},
   "outputs": [],
   "source": [
    "def delta_calc(N_times, K, spot1, spot2, m, r, expiration, strikes, lv):\n",
    "    \n",
    "    option_price1 = calc_option_px(N_times, K, spot1, m, r, expiration, strikes, lv)\n",
    "    option_price2 = calc_option_px(N_times, K, spot2, m, r, expiration, strikes, lv)\n",
    "    \n",
    "    #print(option_price1)\n",
    "    #print(option_price2)\n",
    "    \n",
    "    return (option_price2 - option_price1) / (spot2 - spot1)"
   ]
  },
  {
   "cell_type": "code",
   "execution_count": 49,
   "id": "390a02b8",
   "metadata": {},
   "outputs": [
    {
     "data": {
      "text/plain": [
       "tensor(0.7522)"
      ]
     },
     "execution_count": 49,
     "metadata": {},
     "output_type": "execute_result"
    }
   ],
   "source": [
    "delta_calc(N_times = 36, K = 1, spot1=1, spot2=1.01, m=17, r=0.05, expiration=3, strikes = strikes, lv=lv)"
   ]
  },
  {
   "cell_type": "code",
   "execution_count": 50,
   "id": "b5bc7c55",
   "metadata": {},
   "outputs": [],
   "source": [
    "def gamma_calc(N_times, K, spot, h, m, r, expiration, strikes, lv):\n",
    "    \n",
    "    option_price = calc_option_px(N_times, K, spot, m, r, expiration, strikes, lv)\n",
    "    option_price1 = calc_option_px(N_times, K, spot + h, m, r, expiration, strikes, lv)\n",
    "    option_price2 = calc_option_px(N_times, K, spot - h, m, r, expiration, strikes, lv)\n",
    "    \n",
    "    #print(option_price1)\n",
    "    #print(option_price2)\n",
    "    \n",
    "    return (option_price2 - 2 * option_price + option_price1) / (h ** 2)"
   ]
  },
  {
   "cell_type": "code",
   "execution_count": 51,
   "id": "588ed1f4",
   "metadata": {},
   "outputs": [
    {
     "data": {
      "text/plain": [
       "tensor(1.2930)"
      ]
     },
     "execution_count": 51,
     "metadata": {},
     "output_type": "execute_result"
    }
   ],
   "source": [
    "gamma_calc(N_times = 36, K = 1, spot = spot, h = 0.01, m=17, r=0.05, expiration=3, strikes = strikes, lv=lv)"
   ]
  },
  {
   "cell_type": "code",
   "execution_count": 84,
   "id": "16c2ff2f",
   "metadata": {},
   "outputs": [],
   "source": [
    "def Greeks(N_times, K, spot, m, r, expiration, strikes, lv):\n",
    "    # setup gradient functions to evaluate with AAD\n",
    "    _spot = torch.tensor(spot, requires_grad=True)\n",
    "    #print(spot)\n",
    "    #lv = torch.tensor(lv, requires_grad=True)\n",
    "    #strikes = torch.tensor(strikes, requires_grad=False)\n",
    "    #_expiration = torch.tensor(expiration, requires_grad=True)\n",
    "    #_r = torch.tensor(r, requires_grad=True)\n",
    "    \n",
    "    NPV = calc_option_px(N_times, K, _spot, m, r, expiration, strikes, lv)\n",
    "    NPV.backward(retain_graph = True)\n",
    "    \n",
    "    #theta = _expiration.grad\n",
    "    delta = _spot.grad\n",
    "    gamma = delta.grad\n",
    "    #vega = lv.grad / 100\n",
    "    #rho = _r.grad\n",
    "    return NPV, delta, gamma"
   ]
  },
  {
   "cell_type": "code",
   "execution_count": 85,
   "id": "26a44116",
   "metadata": {
    "scrolled": true
   },
   "outputs": [
    {
     "data": {
      "text/plain": [
       "(tensor(0.1932, grad_fn=<DivBackward0>), tensor(0.7446), None)"
      ]
     },
     "execution_count": 85,
     "metadata": {},
     "output_type": "execute_result"
    }
   ],
   "source": [
    "Greeks(N_times = 36, K = 1.0, spot=1.0, m=17, r=0.05, expiration=3., strikes = strikes, lv=lv)"
   ]
  },
  {
   "cell_type": "code",
   "execution_count": null,
   "id": "a03aa753",
   "metadata": {},
   "outputs": [],
   "source": []
  },
  {
   "cell_type": "markdown",
   "id": "215a3c86",
   "metadata": {},
   "source": [
    "## 1) сделать такую же функцию с греками + новую функцию подсчёта цены опциона, в к-рой спот умножается на экспоненту (из решнния гбм) и посчитать дельту для этого случая\n",
    "\n",
    "## 2) посмотреть лок вол with r = 0\n",
    "\n",
    "## 3) перепроверить формулу для лв"
   ]
  },
  {
   "cell_type": "code",
   "execution_count": null,
   "id": "d3384c7e",
   "metadata": {},
   "outputs": [],
   "source": []
  },
  {
   "cell_type": "code",
   "execution_count": null,
   "id": "0b1ccf0f",
   "metadata": {},
   "outputs": [],
   "source": []
  },
  {
   "cell_type": "code",
   "execution_count": null,
   "id": "44cb8789",
   "metadata": {},
   "outputs": [],
   "source": []
  }
 ],
 "metadata": {
  "kernelspec": {
   "display_name": "Python 3 (ipykernel)",
   "language": "python",
   "name": "python3"
  },
  "language_info": {
   "codemirror_mode": {
    "name": "ipython",
    "version": 3
   },
   "file_extension": ".py",
   "mimetype": "text/x-python",
   "name": "python",
   "nbconvert_exporter": "python",
   "pygments_lexer": "ipython3",
   "version": "3.10.9"
  }
 },
 "nbformat": 4,
 "nbformat_minor": 5
}
